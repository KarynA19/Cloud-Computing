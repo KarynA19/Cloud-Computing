{
  "nbformat": 4,
  "nbformat_minor": 0,
  "metadata": {
    "colab": {
      "provenance": [],
      "authorship_tag": "ABX9TyN++t8BLW+0Wz3nijrEue3w",
      "include_colab_link": true
    },
    "kernelspec": {
      "name": "python3",
      "display_name": "Python 3"
    },
    "language_info": {
      "name": "python"
    },
    "widgets": {
      "application/vnd.jupyter.widget-state+json": {
        "2ee53343f7444066940437752df8c589": {
          "model_module": "@jupyter-widgets/controls",
          "model_name": "VBoxModel",
          "model_module_version": "1.5.0",
          "state": {
            "_dom_classes": [],
            "_model_module": "@jupyter-widgets/controls",
            "_model_module_version": "1.5.0",
            "_model_name": "VBoxModel",
            "_view_count": null,
            "_view_module": "@jupyter-widgets/controls",
            "_view_module_version": "1.5.0",
            "_view_name": "VBoxView",
            "box_style": "",
            "children": [
              "IPY_MODEL_f33929fd5e1740228f4b81c0a2be16e9",
              "IPY_MODEL_30f5414ad2094d01b134c211ad85dc77",
              "IPY_MODEL_c045f6c578ad4d75bb277b9f8de24040",
              "IPY_MODEL_454eb436a80648e4a0af5d68c91b414f",
              "IPY_MODEL_bd3366ec4b334b4b8960cc9c45d21fca"
            ],
            "layout": "IPY_MODEL_3561d6fe454d446ba8a364a37dd1a375"
          }
        }
      }
    }
  },
  "cells": [
    {
      "cell_type": "markdown",
      "metadata": {
        "id": "view-in-github",
        "colab_type": "text"
      },
      "source": [
        "<a href=\"https://colab.research.google.com/github/KarynA19/Cloud-Computing/blob/main/Tirgul2.ipynb\" target=\"_parent\"><img src=\"https://colab.research.google.com/assets/colab-badge.svg\" alt=\"Open In Colab\"/></a>"
      ]
    },
    {
      "cell_type": "code",
      "source": [
        "from google.colab import drive\n",
        "drive.mount('/content/drive')\n"
      ],
      "metadata": {
        "colab": {
          "base_uri": "https://localhost:8080/"
        },
        "id": "e17P_OCL4Sx8",
        "outputId": "c68c1797-f2c1-45e3-83be-0539013f6f44"
      },
      "execution_count": null,
      "outputs": [
        {
          "output_type": "stream",
          "name": "stdout",
          "text": [
            "Mounted at /content/drive\n"
          ]
        }
      ]
    },
    {
      "cell_type": "code",
      "source": [
        "import json\n",
        "import ipywidgets as widgets\n",
        "from IPython.display import display\n",
        "\n",
        "#יצירת מילון עם פרטי הסטודנט\n",
        "student_data = [{\n",
        "    \"first_name\": \"Yovel\",\n",
        "    \"last_name\": \"Katz\",\n",
        "    \"email\": \"yuval@example.com\",\n",
        "    \"courses\": [\"course1\", \"course2\", \"course3\"],\n",
        "    \"interesting_link\": \"https://www.google.com\"\n",
        "    },\n",
        "    {\n",
        "        \"first_name\": \"Karyn\",\n",
        "        \"last_name\": \"Arama\",\n",
        "        \"email\": \"karin@example.com\",\n",
        "        \"courses\": [\"course1\", \"course2\"],\n",
        "        \"interesting_link\": \"https://www.wikipedia.org\"\n",
        "    },\n",
        "    {\n",
        "        \"first_name\": \"Omer\",\n",
        "        \"last_name\": \"Zilca\",\n",
        "        \"email\": \"omer@example.com\",\n",
        "        \"courses\": [\"course1\", \"course2\"],\n",
        "        \"interesting_link\": \"https://www.ynet.co.il\"\n",
        "    },\n",
        "    {\n",
        "        \"first_name\": \"Noy\",\n",
        "        \"last_name\": \"Ben Ezra\",\n",
        "        \"email\": \"noy@example.com\",\n",
        "        \"courses\": [\"course1\", \"course2\"],\n",
        "        \"interesting_link\": \"https://www.youtube.com\"\n",
        "    },\n",
        "    {\n",
        "        \"first_name\": \"Bar\",\n",
        "        \"last_name\": \"Elrom\",\n",
        "        \"email\": \"bar@example.com\",\n",
        "        \"courses\": [\"course1\", \"course2\"],\n",
        "        \"interesting_link\": \"https://www.facebook.com\"\n",
        "    },\n",
        "    {\n",
        "        \"first_name\": \"Yamit\",\n",
        "        \"last_name\": \"Moreno\",\n",
        "        \"email\": \"yamit@example.com\",\n",
        "        \"courses\": [\"course1\", \"course2\"],\n",
        "        \"interesting_link\": \"https://www.linkedin.com\"\n",
        "    }\n",
        "                ]\n",
        "#פתיחת קובץ גיסון לכתיבה\n",
        "with open('/content/students.json', 'w', encoding='utf-8') as f:\n",
        "    json.dump(student_data, f, indent=4, ensure_ascii=False)\n",
        "\n",
        "\n",
        "# קבלת רשימת שמות הסטודנטים מקובץ ה-JSON\n",
        "with open('/content/students.json', 'r') as f:\n",
        "    data = json.load(f)\n",
        "student_names = [student['first_name'] + ' ' + student['last_name'] for student in data]\n",
        "\n",
        "# יצירת תיבת בחירה עם שמות הסטודנטים\n",
        "name_dropdown = widgets.Dropdown(\n",
        "    options=student_names,\n",
        "    description=\"Select Student\",\n",
        ")\n",
        "\n",
        "\n",
        "show_button = widgets.Button(description=\"Show\")\n",
        "update_button = widgets.Button(description=\"Update\")\n",
        "\n",
        "output = widgets.Output()\n",
        "\n",
        "def show_student_info(b):\n",
        "    with output:\n",
        "        output.clear_output()  # ניקוי פלט קודם\n",
        "        selected_student_name = name_dropdown.value\n",
        "        for student in data:\n",
        "            if student['first_name'] + ' ' + student['last_name'] == selected_student_name:\n",
        "                for key, value in student.items():\n",
        "                    print(f\"{key}: {value}\")\n",
        "                break\n",
        "\n",
        "show_button.on_click(show_student_info)\n",
        "\n",
        "favorite_TVshow_box = widgets.Text(\n",
        "    placeholder='Enter favorite TVshow',\n",
        "    description='Favorite Show:',\n",
        "    disabled=False\n",
        ")\n",
        "\n",
        "def update_student_info(b):\n",
        "    with output:\n",
        "        output.clear_output()\n",
        "        selected_student_name = name_dropdown.value\n",
        "        favorite_show = favorite_TVshow_box.value\n",
        "\n",
        "        # מציאת הסטודנט הנבחר ועדכון המידע\n",
        "        for student in data:\n",
        "            if student['first_name'] + ' ' + student['last_name'] == selected_student_name:\n",
        "                # לעדכן את התוכנית האהובה\n",
        "                student['favorite_show'] = favorite_show\n",
        "                print(\"Update:)\")\n",
        "                break\n",
        "        favorite_TVshow_box.value = ''  # ניקוי תיבת הטקסט\n",
        "\n",
        "\n",
        "update_button.on_click(update_student_info)\n",
        "\n",
        "favorite_TVshow = favorite_TVshow_box.value\n",
        "form = widgets.VBox([name_dropdown, show_button, output])\n",
        "form = widgets.VBox([name_dropdown, favorite_TVshow_box, show_button, update_button, output])\n",
        "print(favorite_TVshow)\n",
        "display(form)\n",
        "\n",
        "#על מנת לקרוא את הקובת הגיסון שיצרתי\n",
        "#with open('/content/students.json', 'r') as f:\n",
        " #data = json.load(f)\n",
        "\n",
        "#for student in data:\n",
        " # print(student)\n"
      ],
      "metadata": {
        "colab": {
          "base_uri": "https://localhost:8080/",
          "referenced_widgets": [
            "2ee53343f7444066940437752df8c589",
            "f33929fd5e1740228f4b81c0a2be16e9",
            "30f5414ad2094d01b134c211ad85dc77",
            "c045f6c578ad4d75bb277b9f8de24040",
            "454eb436a80648e4a0af5d68c91b414f",
            "bd3366ec4b334b4b8960cc9c45d21fca",
            "3561d6fe454d446ba8a364a37dd1a375",
            "413e463965fb4283a03699baeccf090e",
            "9c4de082a83549acaa731ab076d3b50d",
            "dd700c19cd2d4c9d80d3c17b5017215e",
            "edb04114c02e43b682dddcd1db7ac6b5",
            "4b18b1a3e7f24897b1183e23af78e60a",
            "f3833b04a08d4dca887e4c1dde1e14f5",
            "a147aded53c044d49a2ae0224898641f",
            "ebfeecd2e85f43d0892c4d81ab38775e",
            "3d1cb75a772c47ebabafc7ff8a300efc"
          ]
        },
        "id": "IBgsBM-G7g8e",
        "outputId": "5423084f-7785-4cbd-ec42-c97e74e2954b"
      },
      "execution_count": null,
      "outputs": [
        {
          "output_type": "stream",
          "name": "stdout",
          "text": [
            "\n"
          ]
        },
        {
          "output_type": "display_data",
          "data": {
            "text/plain": [
              "VBox(children=(Dropdown(description='Select Student', options=('Yovel Katz', 'Karyn Arama', 'Omer Zilca', 'Noy…"
            ],
            "application/vnd.jupyter.widget-view+json": {
              "version_major": 2,
              "version_minor": 0,
              "model_id": "2ee53343f7444066940437752df8c589"
            }
          },
          "metadata": {}
        }
      ]
    }
  ]
}