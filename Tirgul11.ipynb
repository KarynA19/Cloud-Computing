{
  "nbformat": 4,
  "nbformat_minor": 0,
  "metadata": {
    "colab": {
      "provenance": []
    },
    "kernelspec": {
      "name": "python3",
      "display_name": "Python 3"
    },
    "language_info": {
      "name": "python"
    }
  },
  "cells": [
    {
      "cell_type": "code",
      "execution_count": null,
      "metadata": {
        "id": "mQWpp340HUNA"
      },
      "outputs": [],
      "source": [
        "# מתקינים את הספרייה של ג'מיני (הריצי בשורת קוד נפרדת בקולאב אם צריך)\n",
        "!pip install google-generativeai\n",
        "\n",
        "# קוד הסוכן\n",
        "import google.generativeai as genai\n",
        "from typing import List, Dict\n",
        "\n",
        "class GeminiAgent:\n",
        "    def __init__(self, api_key: str, model_name: str = \"gemini-1.5-flash\"):\n",
        "        genai.configure(api_key=api_key)\n",
        "        self.model = genai.GenerativeModel(model_name)\n",
        "        self.chat_session = self.model.start_chat(history=[])\n",
        "        self.conversation_history: List[Dict[str, str]] = []\n",
        "\n",
        "    def send_message(self, message: str) -> str:\n",
        "        try:\n",
        "            response = self.chat_session.send_message(message)\n",
        "            self.conversation_history.append({\n",
        "                \"user\": message,\n",
        "                \"gemini\": response.text\n",
        "            })\n",
        "            return response.text\n",
        "        except Exception as e:\n",
        "            return f\"שגיאה: {str(e)}\"\n",
        "\n",
        "    def summarize_conversation(self) -> str:\n",
        "        if not self.conversation_history:\n",
        "            return \"אין שיחה לסכם.\"\n",
        "        summary_prompt = \"סכם את השיחה הבאה ב-2-3 משפטים: \" + str(self.conversation_history)\n",
        "        return self.send_message(summary_prompt)\n",
        "\n",
        "# ===================\n",
        "# שימוש בסוכן לניתוח מידע\n",
        "# ===================\n",
        "\n",
        "# 🔑 הכניסי את ה-API KEY שלך כאן\n",
        "api_key = \"YOUR_API_KEY_HERE\"\n",
        "\n",
        "agent = GeminiAgent(api_key)\n",
        "\n",
        "# 📊 נתונים לניתוח (טמפרטורות בשבוע האחרון)\n",
        "data_message = \"\"\"\n",
        "יש לי את הנתונים הבאים על טמפרטורות במשך שבוע:\n",
        "[22.5, 23.1, 21.8, 24.3, 25.0, 23.4, 22.9]\n",
        "מה ניתן להסיק מהמגמה? האם יש חריגות? מה היית ממליץ?\n",
        "\"\"\"\n",
        "\n",
        "response = agent.send_message(data_message)\n",
        "\n",
        "# הדפסת תוצאת הניתוח\n",
        "print(\"📊 ניתוח הסוכן:\\n\", response)\n",
        "\n",
        "# (רשות) סיכום כל השיחה\n",
        "summary = agent.summarize_conversation()\n",
        "print(\"\\n📝 סיכום השיחה:\\n\", summary)\n"
      ]
    }
  ]
}