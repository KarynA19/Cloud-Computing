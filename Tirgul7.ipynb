{
  "nbformat": 4,
  "nbformat_minor": 0,
  "metadata": {
    "colab": {
      "provenance": []
    },
    "kernelspec": {
      "name": "python3",
      "display_name": "Python 3"
    },
    "language_info": {
      "name": "python"
    }
  },
  "cells": [
    {
      "cell_type": "code",
      "execution_count": 17,
      "metadata": {
        "colab": {
          "base_uri": "https://localhost:8080/"
        },
        "id": "hROJ34hSajpc",
        "outputId": "7f26d4be-f530-40b4-d7ae-10872a771458"
      },
      "outputs": [
        {
          "output_type": "stream",
          "name": "stdout",
          "text": [
            "Search Results (AND/OR):\n",
            "Microservices Design (Score: 1)\n",
            "\n",
            "Search Results with OR only:\n",
            "Python Basics (Score: 1)\n",
            "Cloud Computing (Score: 1)\n"
          ]
        }
      ],
      "source": [
        "from typing import List, Dict, Set\n",
        "\n",
        "class DocumentService:\n",
        "    def __init__(self):\n",
        "        self.documents = {}\n",
        "        self.index = {}\n",
        "\n",
        "    def add_document(self, title: str, content: str) -> str:\n",
        "        doc_id = str(len(self.documents) + 1)\n",
        "        self.documents[doc_id] = {\n",
        "            'title': title,\n",
        "            'content': content,\n",
        "            'score': 0\n",
        "        }\n",
        "        self._index_document(doc_id, content)\n",
        "        return doc_id\n",
        "\n",
        "    def _index_document(self, doc_id: str, content: str) -> None:\n",
        "        words = content.lower().split()\n",
        "        for word in words:\n",
        "            if word not in self.index:\n",
        "                self.index[word] = set()\n",
        "            self.index[word].add(doc_id)\n",
        "\n",
        "    def get_document(self, doc_id: str) -> Dict[str, str]:\n",
        "        \"\"\"Retrieve a document by ID\"\"\"\n",
        "        return self.documents.get(doc_id, {})\n",
        "\n",
        "    def search_word(self, word: str) -> List[str]:\n",
        "        \"\"\"Find documents containing a word\"\"\"\n",
        "        word = word.lower()\n",
        "        return list(self.index.get(word, set()))\n",
        "\n",
        "    def search_documents(self, query: str) -> List[Dict[str, str]]:\n",
        "        # Split the query into individual conditions (AND, OR)\n",
        "        terms = query.lower().split()\n",
        "        doc_scores = {}\n",
        "\n",
        "        # Separate AND and OR sections\n",
        "        current_and_set = None\n",
        "        current_or_set = set()\n",
        "\n",
        "        for term in terms:\n",
        "            if term == 'and':\n",
        "                continue\n",
        "            elif term == 'or':\n",
        "                # Add the current AND group to the OR set\n",
        "                if current_and_set is not None:\n",
        "                    current_or_set.update(current_and_set)\n",
        "                current_and_set = None\n",
        "            else:\n",
        "                # Process individual terms\n",
        "                docs = set(self.search_word(term))\n",
        "                if current_and_set is None:\n",
        "                    current_and_set = docs\n",
        "                else:\n",
        "                    current_and_set &= docs\n",
        "\n",
        "        # Add final AND set to the OR set (if any)\n",
        "        if current_and_set is not None:\n",
        "            current_or_set.update(current_and_set)\n",
        "\n",
        "        # Calculate scores based on matching documents\n",
        "        for doc_id in current_or_set:\n",
        "            doc_scores[doc_id] = doc_scores.get(doc_id, 0) + 1\n",
        "\n",
        "        # Sort by score (higher score = more relevance)\n",
        "        ranked_results = sorted(\n",
        "            [{'id': doc_id, 'title': self.get_document(doc_id)['title'], 'score': score} for doc_id, score in doc_scores.items()],\n",
        "            key=lambda x: x['score'],\n",
        "            reverse=True\n",
        "        )\n",
        "        return ranked_results\n",
        "\n",
        "\n",
        "def main():\n",
        "    service = DocumentService()\n",
        "    service.add_document(\"Python Basics\", \"Python is a popular programming language.\")\n",
        "    service.add_document(\"Cloud Computing\", \"Cloud computing is the future of scalable applications.\")\n",
        "    service.add_document(\"Microservices Design\", \"Microservices architecture is a way to build scalable systems.\")\n",
        "\n",
        "    print(\"Search Results (AND/OR):\")\n",
        "    results = service.search_documents(\"Python and cloud or microservices\")\n",
        "    for result in results:\n",
        "        print(f\"{result['title']} (Score: {result['score']})\")\n",
        "\n",
        "    print(\"\\nSearch Results with OR only:\")\n",
        "    results = service.search_documents(\"Python or cloud\")\n",
        "    for result in results:\n",
        "        print(f\"{result['title']} (Score: {result['score']})\")\n",
        "\n",
        "\n",
        "if __name__ == '__main__':\n",
        "    main()\n"
      ]
    }
  ]
}