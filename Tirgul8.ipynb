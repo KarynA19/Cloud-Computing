{
  "nbformat": 4,
  "nbformat_minor": 0,
  "metadata": {
    "colab": {
      "provenance": [],
      "authorship_tag": "ABX9TyMjuXuNB4h6aFtS716UAmtG",
      "include_colab_link": true
    },
    "kernelspec": {
      "name": "python3",
      "display_name": "Python 3"
    },
    "language_info": {
      "name": "python"
    }
  },
  "cells": [
    {
      "cell_type": "markdown",
      "metadata": {
        "id": "view-in-github",
        "colab_type": "text"
      },
      "source": [
        "<a href=\"https://colab.research.google.com/github/KarynA19/Cloud-Computing/blob/main/Tirgul8.ipynb\" target=\"_parent\"><img src=\"https://colab.research.google.com/assets/colab-badge.svg\" alt=\"Open In Colab\"/></a>"
      ]
    },
    {
      "cell_type": "code",
      "execution_count": 11,
      "metadata": {
        "colab": {
          "base_uri": "https://localhost:8080/"
        },
        "id": "f8lgLtirPzFE",
        "outputId": "97f4b7a4-175e-4a6a-db7c-621bf6043498"
      },
      "outputs": [
        {
          "output_type": "stream",
          "name": "stderr",
          "text": [
            "[nltk_data] Downloading package punkt to /root/nltk_data...\n",
            "[nltk_data]   Package punkt is already up-to-date!\n"
          ]
        },
        {
          "output_type": "stream",
          "name": "stdout",
          "text": [
            "Welcome to the lab assistant bot! Type one of ['quit', 'exit', 'bye', 'stop', 'end'] to exit.\n",
            "You: stop\n",
            "Bot: Goodbye!\n"
          ]
        }
      ],
      "source": [
        "# Step 1: Install and import packages\n",
        "!pip install nltk -q\n",
        "import nltk\n",
        "nltk.download('punkt')\n",
        "\n",
        "from nltk.chat.util import Chat, reflections\n",
        "\n",
        "# Step 2: Define chatbot pattern-response pairs (your pairs)\n",
        "pairs = [\n",
        "    [r\"(hi|hello|hey)\", [\"Hello! I'm the lab assistant bot. How can I help you today?\"]],\n",
        "    [r\"(what is this dashboard|what does the dashboard show|what is the purpose of this dashboard|what does the dashboard do)\",\n",
        "     [\"This dashboard helps monitor real-time sensor data in the robotics lab.\"]],\n",
        "    [r\"(how can i navigate the dashboard|how to use the dashboard)\",\n",
        "     [\"You can view different sensor data by selecting the tabs or charts available.\"]],\n",
        "    [r\"(which sensors are monitored|what sensors are in the lab|which types of sensors are integrated|what sensors are used)\",\n",
        "     [\"The system uses temperature, humidity, and pressure sensors.\"]],\n",
        "    [r\"(how accurate are the sensor readings|sensor accuracy)\",\n",
        "     [\"The sensors provide high-precision measurements suitable for lab monitoring.\"]],\n",
        "    [r\"(how often is the data updated|is the data real-time|how frequently is sensor data updated)\",\n",
        "     [\"Data updates in real-time, approximately every second.\"]],\n",
        "    [r\"(can i download historical sensor data|historical data)\",\n",
        "     [\"Currently, the dashboard shows live data; historical data download is planned for future updates.\"]],\n",
        "    [r\"(what technology stack is used|what technologies are used)\",\n",
        "     [\"We use Firebase Realtime Database, MQTT protocol, Chart.js for graphs, and a React-based frontend.\"]],\n",
        "    [r\"(how does mqtt help in this system|what is mqtt|what is MQTT|how does MQTT work)\",\n",
        "     [\"MQTT is a lightweight protocol that efficiently sends sensor data to the cloud in real-time.\"]],\n",
        "    [r\"(where is the sensor data stored|data storage|where is the data stored|is the data saved somewhere)\",\n",
        "     [\"All data is securely stored in Firebase Realtime Database.\"]],\n",
        "    [r\"(who has access to the dashboard|who can see the dashboard|who can access the dashboard|is there permission control)\",\n",
        "     [\"Engineers, administrators, and visitors have role-based access with different permissions.\"]],\n",
        "    [r\"(how is user authentication handled|login method)\",\n",
        "     [\"Users log in via Firebase Authentication with role-based permissions.\"]],\n",
        "    [r\"(is the data encrypted|data security)\",\n",
        "     [\"Yes, data transfer and storage use secure encryption protocols.\"]],\n",
        "    [r\"(what happens in emergency|how are alerts handled|is there an alert system)\",\n",
        "     [\"The dashboard triggers an emergency mode with visual alerts and notifications.\"]],\n",
        "    [r\"(can i configure alert thresholds|alert configuration)\",\n",
        "     [\"Currently, alert thresholds are predefined by system administrators.\"]],\n",
        "    [r\"(how will i be notified during an emergency|emergency notifications)\",\n",
        "     [\"Visual alerts appear on the dashboard, and push notifications are sent to authorized users.\"]],\n",
        "    [r\"(how do i reset the dashboard|how to refresh data)\",\n",
        "     [\"Use the refresh button at the top right of the dashboard.\"]],\n",
        "    [r\"(is there a log of past alerts|system logs)\",\n",
        "     [\"Yes, the dashboard maintains a log accessible by administrators.\"]],\n",
        "    [r\"(who do i contact for technical support|support contact)\",\n",
        "     [\"Contact the lab’s IT support team via the contact info on the dashboard.\"]],\n",
        "    [r\"(can i customize the dashboard layout|dashboard customization)\",\n",
        "     [\"Currently, the layout is fixed, but customization is planned for future versions.\"]],\n",
        "    [r\"(how do i report bugs|feature requests|report issues)\",\n",
        "     [\"Use the feedback form linked at the bottom of the dashboard page.\"]],\n",
        "    [r\"(thank you|thanks)\",\n",
        "     [\"You’re welcome! Feel free to ask if you have more questions.\"]],\n",
        "]\n",
        "\n",
        "# Step 3: Create chatbot object\n",
        "chatbot = Chat(pairs, reflections)\n",
        "\n",
        "# List of words that end the chat\n",
        "exit_words = ['quit', 'exit', 'bye', 'stop', 'end']\n",
        "\n",
        "# Step 4: Simple loop to chat in console\n",
        "print(f\"Welcome to the lab assistant bot! Type one of {exit_words} to exit.\")\n",
        "\n",
        "while True:\n",
        "    user_input = input(\"You: \").strip()\n",
        "    if not user_input:\n",
        "        continue  # Ignore empty input\n",
        "    if user_input.lower() in exit_words:\n",
        "        print(\"Bot: Goodbye!\")\n",
        "        break\n",
        "    response = chatbot.respond(user_input.lower())\n",
        "    if not response:\n",
        "        response = \"Sorry, I didn't understand that.\"\n",
        "    print(\"Bot:\", response)\n",
        "\n"
      ]
    }
  ]
}