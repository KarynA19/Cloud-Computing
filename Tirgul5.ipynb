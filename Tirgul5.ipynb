{
  "nbformat": 4,
  "nbformat_minor": 0,
  "metadata": {
    "colab": {
      "provenance": [],
      "authorship_tag": "ABX9TyNMHrbr0NhLYV+I7uN82Asm",
      "include_colab_link": true
    },
    "kernelspec": {
      "name": "python3",
      "display_name": "Python 3"
    },
    "language_info": {
      "name": "python"
    }
  },
  "cells": [
    {
      "cell_type": "markdown",
      "metadata": {
        "id": "view-in-github",
        "colab_type": "text"
      },
      "source": [
        "<a href=\"https://colab.research.google.com/github/KarynA19/Cloud-Computing/blob/main/Tirgul5.ipynb\" target=\"_parent\"><img src=\"https://colab.research.google.com/assets/colab-badge.svg\" alt=\"Open In Colab\"/></a>"
      ]
    },
    {
      "cell_type": "code",
      "execution_count": 1,
      "metadata": {
        "colab": {
          "base_uri": "https://localhost:8080/"
        },
        "id": "usGhOIKtn9Cq",
        "outputId": "b409d0e0-45b3-45b7-f145-61a4fce693bd"
      },
      "outputs": [
        {
          "output_type": "stream",
          "name": "stdout",
          "text": [
            "Collecting firebase\n",
            "  Downloading firebase-4.0.1-py3-none-any.whl.metadata (6.5 kB)\n",
            "Requirement already satisfied: requests in /usr/local/lib/python3.11/dist-packages (from firebase) (2.32.3)\n",
            "Requirement already satisfied: charset-normalizer<4,>=2 in /usr/local/lib/python3.11/dist-packages (from requests->firebase) (3.4.1)\n",
            "Requirement already satisfied: idna<4,>=2.5 in /usr/local/lib/python3.11/dist-packages (from requests->firebase) (3.10)\n",
            "Requirement already satisfied: urllib3<3,>=1.21.1 in /usr/local/lib/python3.11/dist-packages (from requests->firebase) (2.3.0)\n",
            "Requirement already satisfied: certifi>=2017.4.17 in /usr/local/lib/python3.11/dist-packages (from requests->firebase) (2025.1.31)\n",
            "Downloading firebase-4.0.1-py3-none-any.whl (12 kB)\n",
            "Installing collected packages: firebase\n",
            "Successfully installed firebase-4.0.1\n"
          ]
        }
      ],
      "source": [
        "!pip install firebase"
      ]
    },
    {
      "cell_type": "code",
      "source": [
        "from firebase import firebase\n",
        "\n",
        "# Initialize Firebase connection\n",
        "FBconn = firebase.FirebaseApplication('https://cloud-c8df5-default-rtdb.firebaseio.com/', None)\n",
        "\n",
        "def add_single_word(word):\n",
        "    \"\"\"Add a single word or update its count if it already exists\"\"\"\n",
        "    result = FBconn.get('/wordCounter/', None)\n",
        "    if result and word in result:\n",
        "        FBconn.put('/wordCounter/', word, result[word] + 1)\n",
        "    else:\n",
        "        FBconn.put('/wordCounter/', word, 1)\n",
        "    print(f'\"{word}\" added/updated successfully.')\n",
        "\n",
        "def add_text_block(text):\n",
        "    \"\"\"Split full text into words and add each one\"\"\"\n",
        "    words = text.split()\n",
        "    for word in words:\n",
        "        add_single_word(word)\n",
        "\n",
        "def update_word_count(word, new_count):\n",
        "    \"\"\"Manually set a new count for a specific word\"\"\"\n",
        "    FBconn.put('/wordCounter/', word, new_count)\n",
        "    print(f'\"{word}\" updated to count {new_count}.')\n",
        "\n",
        "def delete_word(word):\n",
        "    \"\"\"Delete a word from the database\"\"\"\n",
        "    FBconn.delete('/wordCounter/', word)\n",
        "    print(f'\"{word}\" deleted from the database.')\n",
        "\n",
        "def view_all_words():\n",
        "    \"\"\"Display all words and their current counts\"\"\"\n",
        "\n",
        "    result = FBconn.get('/wordCounter/', None)\n",
        "    if result:\n",
        "        print(\"\\nCurrent Word Counts:\")\n",
        "        for word, count in result.items():\n",
        "            print(f\"{word}: {count}\")\n",
        "    else:\n",
        "        print(\"No words found.\")\n",
        "\n",
        "# Mainmenu\n",
        "while True:\n",
        "    print(\"\\nCommon Words Counter Menu:\")\n",
        "    print(\"1. Add single word\")\n",
        "    print(\"2. Add text for analysis\")\n",
        "    print(\"3. Update word count\")\n",
        "    print(\"4. Delete word\")\n",
        "    print(\"5. View all words\")\n",
        "    print(\"6. Exit\")\n",
        "\n",
        "    choice = input(\"Select an option (1-6): \")\n",
        "\n",
        "    if choice == '1':\n",
        "        word = input(\"Enter a single word: \")\n",
        "        add_single_word(word)\n",
        "\n",
        "    elif choice == '2':\n",
        "        text = input(\"Enter full text: \")\n",
        "        add_text_block(text)\n",
        "\n",
        "    elif choice == '3':\n",
        "        word = input(\"Enter the word to update: \")\n",
        "        try:\n",
        "            count = int(input(\"Enter the new count: \"))\n",
        "            update_word_count(word, count)\n",
        "        except ValueError:\n",
        "            print(\"Invalid count. Please enter a number.\")\n",
        "\n",
        "    elif choice == '4':\n",
        "        word = input(\"Enter the word to delete: \")\n",
        "        delete_word(word)\n",
        "\n",
        "    elif choice == '5':\n",
        "        view_all_words()\n",
        "\n",
        "    elif choice == '6':\n",
        "        print(\"Exiting program...\")\n",
        "        break\n",
        "\n",
        "    else:\n",
        "        print(\"Invalid option. Please choose between 1-6.\")\n"
      ],
      "metadata": {
        "colab": {
          "base_uri": "https://localhost:8080/"
        },
        "id": "sYs_YaoUoQZU",
        "outputId": "c68e82f1-e5e2-4394-bb43-c4f83b7e2c41"
      },
      "execution_count": 2,
      "outputs": [
        {
          "output_type": "stream",
          "name": "stdout",
          "text": [
            "\n",
            "Common Words Counter Menu:\n",
            "1. Add single word\n",
            "2. Add text for analysis\n",
            "3. Update word count\n",
            "4. Delete word\n",
            "5. View all words\n",
            "6. Exit\n",
            "Select an option (1-6): 1\n",
            "Enter a single word: hello\n",
            "\"hello\" added/updated successfully.\n",
            "\n",
            "Common Words Counter Menu:\n",
            "1. Add single word\n",
            "2. Add text for analysis\n",
            "3. Update word count\n",
            "4. Delete word\n",
            "5. View all words\n",
            "6. Exit\n",
            "Select an option (1-6): 2\n",
            "Enter full text: hello world\n",
            "\"hello\" added/updated successfully.\n",
            "\"world\" added/updated successfully.\n",
            "\n",
            "Common Words Counter Menu:\n",
            "1. Add single word\n",
            "2. Add text for analysis\n",
            "3. Update word count\n",
            "4. Delete word\n",
            "5. View all words\n",
            "6. Exit\n",
            "Select an option (1-6): 5\n",
            "\n",
            "Current Word Counts:\n",
            "hello: 2\n",
            "world: 1\n",
            "\n",
            "Common Words Counter Menu:\n",
            "1. Add single word\n",
            "2. Add text for analysis\n",
            "3. Update word count\n",
            "4. Delete word\n",
            "5. View all words\n",
            "6. Exit\n",
            "Select an option (1-6): 6\n",
            "Exiting program...\n"
          ]
        }
      ]
    }
  ]
}